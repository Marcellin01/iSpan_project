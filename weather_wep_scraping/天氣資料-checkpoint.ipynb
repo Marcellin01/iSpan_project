{
 "cells": [
  {
   "cell_type": "code",
   "execution_count": 52,
   "id": "c8eb094c",
   "metadata": {},
   "outputs": [
    {
     "name": "stdout",
     "output_type": "stream",
     "text": [
      "Collecting selenium==3.141.0\n",
      "  Using cached selenium-3.141.0-py2.py3-none-any.whl (904 kB)\n",
      "Requirement already satisfied: urllib3 in c:\\users\\ethen\\anaconda3\\envs\\da\\lib\\site-packages (from selenium==3.141.0) (1.26.16)\n",
      "Installing collected packages: selenium\n",
      "  Attempting uninstall: selenium\n",
      "    Found existing installation: selenium 4.11.0\n",
      "    Uninstalling selenium-4.11.0:\n",
      "      Successfully uninstalled selenium-4.11.0\n",
      "Successfully installed selenium-3.141.0\n"
     ]
    }
   ],
   "source": [
    "#請先將selenium版本設定為3.141.0版\n",
    "!pip install selenium==3.141.0"
   ]
  },
  {
   "cell_type": "code",
   "execution_count": 53,
   "id": "90cade6a",
   "metadata": {},
   "outputs": [
    {
     "name": "stdout",
     "output_type": "stream",
     "text": [
      "Name: selenium\n",
      "Version: 3.141.0\n",
      "Summary: Python bindings for Selenium\n",
      "Home-page: https://github.com/SeleniumHQ/selenium/\n",
      "Author: UNKNOWN\n",
      "Author-email: UNKNOWN\n",
      "License: Apache 2.0\n",
      "Location: c:\\users\\ethen\\anaconda3\\envs\\da\\lib\\site-packages\n",
      "Requires: urllib3\n",
      "Required-by: \n"
     ]
    }
   ],
   "source": [
    "!pip show selenium"
   ]
  },
  {
   "cell_type": "code",
   "execution_count": 54,
   "id": "9faeaadd",
   "metadata": {},
   "outputs": [],
   "source": [
    "# 操作 browser 的 API\n",
    "from selenium import webdriver\n",
    "from selenium.webdriver.chrome.service import Service\n",
    "\n",
    "# 處理逾時例外的工具\n",
    "from selenium.common.exceptions import TimeoutException\n",
    "\n",
    "from selenium.common.exceptions import ElementNotInteractableException\n",
    "\n",
    "# 面對動態網頁，等待某個元素出現的工具，通常與 exptected_conditions 搭配\n",
    "from selenium.webdriver.support.ui import WebDriverWait\n",
    "\n",
    "# 搭配 WebDriverWait 使用，對元素狀態的一種期待條件，若條件發生，則等待結束，往下一行執行\n",
    "from selenium.webdriver.support import expected_conditions as EC\n",
    "\n",
    "# 期待元素出現要透過什麼方式指定，通常與 EC、WebDriverWait 一起使用\n",
    "from selenium.webdriver.common.by import By\n",
    "\n",
    "from selenium.common.exceptions import NoSuchElementException\n",
    "\n",
    "# 強制等待 (執行期間休息一下)\n",
    "from time import sleep\n",
    "\n",
    "# 執行 command 的時候用的\n",
    "import os\n",
    "\n",
    "from selenium.webdriver.support.ui import Select"
   ]
  },
  {
   "cell_type": "code",
   "execution_count": 55,
   "id": "fb7722e9",
   "metadata": {},
   "outputs": [],
   "source": [
    "# 啟動瀏覽器工具的選項\n",
    "my_options = webdriver.ChromeOptions()\n",
    "my_options.add_argument(\"--start-maximized\")         #最大化視窗\n",
    "my_options.add_argument(\"--incognito\")               #開啟無痕模式\n",
    "my_options.add_argument(\"--disable-popup-blocking\") #禁用彈出攔截\n",
    "my_options.add_argument(\"--disable-notifications\")  #取消 chrome 推播通知\n",
    "my_options.add_argument(\"--lang=zh-TW\")  #設定為正體中文"
   ]
  },
  {
   "cell_type": "code",
   "execution_count": 56,
   "id": "397a7966",
   "metadata": {},
   "outputs": [
    {
     "ename": "TypeError",
     "evalue": "WebDriver.__init__() got an unexpected keyword argument 'executable_path'",
     "output_type": "error",
     "traceback": [
      "\u001b[1;31m---------------------------------------------------------------------------\u001b[0m",
      "\u001b[1;31mTypeError\u001b[0m                                 Traceback (most recent call last)",
      "Cell \u001b[1;32mIn[56], line 5\u001b[0m\n\u001b[0;32m      3\u001b[0m s\u001b[39m=\u001b[39mService(driver_path)\n\u001b[0;32m      4\u001b[0m \u001b[39m# driver = webdriver.Chrome(service=s, options=my_options)\u001b[39;00m\n\u001b[1;32m----> 5\u001b[0m driver \u001b[39m=\u001b[39m webdriver\u001b[39m.\u001b[39;49mChrome(executable_path\u001b[39m=\u001b[39;49mdriver_path, options\u001b[39m=\u001b[39;49mmy_options)\n\u001b[0;32m      8\u001b[0m \u001b[39m# 建立儲存檔案的資料夾\u001b[39;00m\n\u001b[0;32m      9\u001b[0m folderPath \u001b[39m=\u001b[39m \u001b[39m'\u001b[39m\u001b[39m台中市資料\u001b[39m\u001b[39m'\u001b[39m\n",
      "\u001b[1;31mTypeError\u001b[0m: WebDriver.__init__() got an unexpected keyword argument 'executable_path'"
     ]
    }
   ],
   "source": [
    "# 使用 Chrome 的 WebDriver\n",
    "driver_path = r'C:\\\\Users\\\\Ethen\\\\iSpan\\\\project\\\\GitHub程式\\\\chromedriver.exe'\n",
    "s=Service(driver_path)\n",
    "# driver = webdriver.Chrome(service=s, options=my_options)\n",
    "driver = webdriver.Chrome(executable_path=driver_path, options=my_options)\n",
    "\n",
    "\n",
    "# 建立儲存檔案的資料夾\n",
    "folderPath = '台中市資料'\n",
    "if not os.path.exists(folderPath):\n",
    "    os.makedirs(folderPath)\n",
    "\n",
    "# os.getcwd()為抓到當前目錄的路徑，windows的路徑會用\\做分隔，但在Python裡\\為跳脫字元，所以下面要放\\\\\n",
    "fullDownloadPath = os.getcwd() + '\\\\' + folderPath\n",
    "\n",
    "# 設定WebDriver的行為，\"prefs\"為偏好設定\n",
    "my_options.add_experimental_option(\"prefs\", {\n",
    "    \n",
    "    # 將fullDownloadPath的路徑設定為默認下載檔案會放的路徑\n",
    "    \"download.default_directory\": fullDownloadPath,\n",
    "\n",
    "    # 可以設定要不要禁用詢問如何處理下載的提示。\n",
    "    \"download.prompt_for_download\": False,\n",
    "\n",
    "    # 在訪問危險網站或下載危險文件時，不會收到任何警告(須確定網頁是否安全再關閉這個功能)\n",
    "    \"safebrowsing.enabled\": False,\n",
    "})"
   ]
  },
  {
   "cell_type": "code",
   "execution_count": 34,
   "id": "afcd667b",
   "metadata": {},
   "outputs": [],
   "source": [
    "# 走訪頁面\n",
    "def visit():\n",
    "    driver.get('https://e-service.cwb.gov.tw/HistoryDataQuery/DayDataController.do?command=viewMain&station=467770&stname=%25E6%25A2%25A7%25E6%25A3%25B2&datepicker=2013-01-01&altitude=31.73m')\n",
    "\n",
    "# 手動或其他原因停止執行此方法\n",
    "def visit1():\n",
    "    #將網址會成停止的日期的測站網址\n",
    "    driver.get('https://e-service.cwb.gov.tw/HistoryDataQuery/DayDataController.do?command=viewMain&station=C0C540&stname=%25E5%25A4%25A7%25E5%259C%2592&datepicker=2014-10-04&altitude=46m')\n",
    "\n",
    "# 將csv下載下來\n",
    "def download_weather_csv():\n",
    "    \n",
    "    try:\n",
    "        # 等待元素出現\n",
    "        WebDriverWait(driver, 10).until(\n",
    "            EC.presence_of_element_located( \n",
    "                (By.CSS_SELECTOR, \"select#selectStno\") \n",
    "            )\n",
    "        )\n",
    "        \n",
    "        # 找到下拉式選單元素\n",
    "        select_element = driver.find_element(By.CSS_SELECTOR, \"select#selectStno\")\n",
    "\n",
    "        # 創建 Select 對象\n",
    "        select = Select(select_element)\n",
    "\n",
    "        # 獲取下拉式選單的選項数量\n",
    "        options_count = len(select.options)\n",
    "        \n",
    "        sleep(1)\n",
    "        \n",
    "        #如果停止將0變為停止的數字\n",
    "        for j in range(0,options_count+1):\n",
    "            print(j)\n",
    "            # 等待元素出現\n",
    "            WebDriverWait(driver, 10).until(\n",
    "                EC.presence_of_element_located( \n",
    "                    (By.CSS_SELECTOR, \"select#selectStno\") \n",
    "                )\n",
    "            )\n",
    "            \n",
    "            # 找到下拉式選單元素\n",
    "            select_element = driver.find_element(By.CSS_SELECTOR, \"select#selectStno\")\n",
    "\n",
    "            # 創建 Select 對象\n",
    "            select = Select(select_element)\n",
    "\n",
    "            # 選擇選項\n",
    "            select.select_by_index(j)\n",
    "\n",
    "            while True:\n",
    "                try:\n",
    "                    WebDriverWait(driver, 10).until(\n",
    "                        EC.presence_of_element_located( \n",
    "                            (By.CSS_SELECTOR, \"a#downloadCSV input\") \n",
    "                        )\n",
    "                    )\n",
    "\n",
    "\n",
    "                    driver.find_element(\n",
    "                        By.CSS_SELECTOR, \n",
    "                        \"a#downloadCSV input\"\n",
    "                    ).click()\n",
    "\n",
    "                # 等待元素出現\n",
    "                    WebDriverWait(driver, 10).until(\n",
    "                        EC.presence_of_element_located( \n",
    "                            (By.CSS_SELECTOR, \"a#nexItem input\") \n",
    "                        )\n",
    "                    )\n",
    "\n",
    "                    driver.find_element(\n",
    "                        By.CSS_SELECTOR, \n",
    "                        \"a#nexItem input\"\n",
    "                    ).click()\n",
    "\n",
    "                    \n",
    "                except ElementNotInteractableException:\n",
    "                    break\n",
    "                \n",
    "            visit()\n",
    "                \n",
    "            sleep(1)\n",
    "        \n",
    "    except TimeoutException:\n",
    "        print(\"等待逾時\")\n",
    "\n"
   ]
  },
  {
   "cell_type": "code",
   "execution_count": null,
   "id": "5f9632f0",
   "metadata": {},
   "outputs": [],
   "source": [
    "driver.get('https://e-service.cwb.gov.tw/HistoryDataQuery')\n",
    "\n",
    "\n",
    "start_date = str(input(\"請輸入要開始下載的日期 ex.2023-08-01: \"))\n",
    "start_date = str(input(\"請輸入要開始下載的日期 ex.2023-08: \"))\n",
    "start_date = str(input(\"請輸入要開始下載的日期 ex.2023: \"))\n",
    "# 等待元素出現\n",
    "WebDriverWait(driver, 10).until(\n",
    "    EC.presence_of_element_located( \n",
    "        (By.CSS_SELECTOR, \"select#stationCountry\") \n",
    "    )\n",
    ")\n",
    "\n",
    "# 找到下拉式選單元素\n",
    "select_country_element = driver.find_element(By.CSS_SELECTOR, \"select#stationCountry\")\n",
    "\n",
    "select_station_element = driver.find_element(By.CSS_SELECTOR, \"select#station\")\n",
    "\n",
    "select_data_type_element = driver.find_element(By.CSS_SELECTOR, \"select#datatype\")\n",
    "\n",
    "select_data_type_element = driver.find_element(By.CSS_SELECTOR, \"select#datatype\")\n",
    "\n",
    "input_date_element = driver.find_element_by_id(\"datepicker\")\n",
    "input_date_element.send_keys(start_date)\n",
    "\n",
    "# 創建 Select 對象\n",
    "select = Select(select_element)\n",
    "\n",
    "# 獲取下拉式選單的選項数量\n",
    "options_count = len(select.options)\n",
    "\n",
    "sleep(1)\n",
    "\n",
    "#如果停止將0變為停止的數字\n",
    "for j in range(0,options_count+1):\n",
    "    print(j)\n",
    "    # 等待元素出現\n",
    "    WebDriverWait(driver, 10).until(\n",
    "        EC.presence_of_element_located( \n",
    "            (By.CSS_SELECTOR, \"select#selectStno\") \n",
    "        )\n",
    "    )\n",
    "    \n",
    "    # 找到下拉式選單元素\n",
    "    select_element = driver.find_element(By.CSS_SELECTOR, \"select#selectStno\")\n",
    "\n",
    "    # 創建 Select 對象\n",
    "    select = Select(select_element)\n",
    "\n",
    "    # 選擇選項\n",
    "    select.select_by_index(j)\n"
   ]
  },
  {
   "cell_type": "code",
   "execution_count": 35,
   "id": "ee43e942",
   "metadata": {},
   "outputs": [
    {
     "name": "stdout",
     "output_type": "stream",
     "text": [
      "等待逾時\n"
     ]
    }
   ],
   "source": [
    "# 最一開始執行的主程式\n",
    "if __name__ == '__main__':\n",
    "    visit()\n",
    "    download_weather_csv()"
   ]
  },
  {
   "cell_type": "code",
   "execution_count": 18,
   "id": "a2b43ebf",
   "metadata": {},
   "outputs": [
    {
     "name": "stdout",
     "output_type": "stream",
     "text": [
      "25\n",
      "26\n",
      "27\n"
     ]
    }
   ],
   "source": [
    "# 停止後主程式\n",
    "if __name__ == '__main__':\n",
    "    visit1()\n",
    "    download_weather_csv()"
   ]
  },
  {
   "cell_type": "code",
   "execution_count": null,
   "id": "8d40647b",
   "metadata": {},
   "outputs": [],
   "source": []
  }
 ],
 "metadata": {
  "kernelspec": {
   "display_name": "Python 3 (ipykernel)",
   "language": "python",
   "name": "python3"
  },
  "language_info": {
   "codemirror_mode": {
    "name": "ipython",
    "version": 3
   },
   "file_extension": ".py",
   "mimetype": "text/x-python",
   "name": "python",
   "nbconvert_exporter": "python",
   "pygments_lexer": "ipython3",
   "version": "3.10.11"
  }
 },
 "nbformat": 4,
 "nbformat_minor": 5
}
